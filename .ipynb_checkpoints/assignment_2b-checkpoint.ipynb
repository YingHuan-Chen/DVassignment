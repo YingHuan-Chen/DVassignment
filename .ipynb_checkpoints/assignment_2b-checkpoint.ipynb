{
 "cells": [
  {
   "cell_type": "code",
   "execution_count": 13,
   "metadata": {},
   "outputs": [
    {
     "name": "stderr",
     "output_type": "stream",
     "text": [
      "<ipython-input-13-5af2bb28cbaa>:41: VisibleDeprecationWarning: Creating an ndarray from ragged nested sequences (which is a list-or-tuple of lists-or-tuples-or ndarrays with different lengths or shapes) is deprecated. If you meant to do this, you must specify 'dtype=object' when creating the ndarray\n",
      "  bbox_list=np.array(bbox_list)\n",
      "<ipython-input-13-5af2bb28cbaa>:16: UserWarning: Attempting to set identical bottom == top == 0.0 results in singular transformations; automatically expanding.\n",
      "  plt.ylim(top=np.round(maxfreq / 10) * 10 if maxfreq % 10 else maxfreq + 10)\n"
     ]
    },
    {
     "data": {
      "image/png": "[encoded data removed]",
      "text/plain": [
       "<Figure size 432x288 with 1 Axes>"
      ]
     },
     "metadata": {
      "needs_background": "light"
     },
     "output_type": "display_data"
    }
   ],
   "source": [
    "import numpy as np\n",
    "import matplotlib.pyplot as plt\n",
    "%matplotlib inline\n",
    "\n",
    "def display_distributions(widths):\n",
    "  if not widths:\n",
    "     print('The input list is empty!')\n",
    "     return\n",
    "  bin_range = range(0, 201, 10)\n",
    "  n, bins, patches = plt.hist(x=widths, bins=bin_range, color='#0504aa', alpha=0.7, rwidth=0.85)\n",
    "  plt.rcParams.update({'font.size': 14})\n",
    "  plt.grid(axis='y', alpha=0.75)\n",
    "  plt.xlabel('Width')\n",
    "  plt.ylabel('Counts')\n",
    "  maxfreq = n.max()\n",
    "  plt.ylim(top=np.round(maxfreq / 10) * 10 if maxfreq % 10 else maxfreq + 10)\n",
    "  plt.show()\n",
    "\n",
    "if __name__ == '__main__':\n",
    "    anno_file = 'annotation.txt'\n",
    "    with open(anno_file, 'r') as fp:\n",
    "        lines = fp.readlines()\n",
    "  # Enter your code here (20%)\n",
    "  # You might use the following to access each line\n",
    "    bbox_list=[]\n",
    "    for line in lines:\n",
    "        annotation=line.strip().split(' ')\n",
    "        box_list=[]\n",
    "        for i in range(len(annotation)-1):\n",
    "               box_list.append(int(annotation[i+1]))\n",
    "        bbox_list.append(box_list)\n",
    "    for i in range(len(bbox_list)):\n",
    "        current_box=bbox_list[i]\n",
    "        for j in range(len(current_box)//4):\n",
    "            x1=current_box[j*4]\n",
    "            y1=current_box[j*4+1]\n",
    "            x2=current_box[j*4+2]\n",
    "            y2=current_box[j*4+3]\n",
    "            if(not(x1 >=0)or not(y1 >= 0)or not(x2 > x1)or not(y2 > y1)):\n",
    "                bbox_list[i]=bbox_list[i][0:j*4]+bbox_list[i][j*4+4:]\n",
    "    bbox_list=np.array(bbox_list)\n",
    "    for i in range(len(bbox_list)):\n",
    "        bbox_list[i]=np.array(bbox_list[i])\n",
    "        bbox_list[i]=bbox_list[i].reshape(-1,4)\n",
    "    width_list=[]\n",
    "    for i in range(len(bbox_list)):\n",
    "        widths=[]\n",
    "        current_box=bbox_list[i]\n",
    "        for j in current_box:\n",
    "            width=j[2]-j[0]+1\n",
    "            widths.append(width)\n",
    "        width_list.append(widths)\n",
    "    #width_list=np.array(width_list)\n",
    "    #for i in range(len(width_list)):\n",
    "    #    width_list[i]=np.array(width_list[i])\n",
    "  # After you finish Step 2,\n",
    "  # you may use the following function to visualize the distribution of widths  \n",
    "    display_distributions(width_list[3])"
   ]
  },
  {
   "cell_type": "code",
   "execution_count": 10,
   "metadata": {},
   "outputs": [],
   "source": [
    "# The above code only considers valid bounding boxes. How many bounding boxes are invalid? Modify the above code to find the answer. (5%)\n",
    "# Write down your answer here."
   ]
  },
  {
   "cell_type": "code",
   "execution_count": 5,
   "metadata": {},
   "outputs": [],
   "source": [
    "# Discuss the types of situations that give rise to invalid bounding boxes. (5%)\n",
    "# Write down your answer here."
   ]
  }
 ],
 "metadata": {
  "kernelspec": {
   "display_name": "Python 3",
   "language": "python",
   "name": "python3"
  },
  "language_info": {
   "codemirror_mode": {
    "name": "ipython",
    "version": 3
   },
   "file_extension": ".py",
   "mimetype": "text/x-python",
   "name": "python",
   "nbconvert_exporter": "python",
   "pygments_lexer": "ipython3",
   "version": "3.8.2"
  }
 },
 "nbformat": 4,
 "nbformat_minor": 2
}
