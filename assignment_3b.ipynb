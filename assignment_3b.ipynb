{
 "cells": [
  {
   "cell_type": "code",
   "execution_count": 43,
   "metadata": {},
   "outputs": [
    {
     "name": "stdout",
     "output_type": "stream",
     "text": [
      "error\n",
      "error\n",
      "error\n",
      "error\n",
      "error\n",
      "error\n",
      "error\n",
      "error\n",
      "error\n",
      "error\n",
      "error\n",
      "error\n",
      "error\n",
      "error\n"
     ]
    },
    {
     "name": "stderr",
     "output_type": "stream",
     "text": [
      "IOPub data rate exceeded.\n",
      "The notebook server will temporarily stop sending output\n",
      "to the client in order to avoid crashing it.\n",
      "To change this limit, set the config variable\n",
      "`--NotebookApp.iopub_data_rate_limit`.\n",
      "\n",
      "Current values:\n",
      "NotebookApp.iopub_data_rate_limit=1000000.0 (bytes/sec)\n",
      "NotebookApp.rate_limit_window=3.0 (secs)\n",
      "\n"
     ]
    },
    {
     "ename": "TypeError",
     "evalue": "list indices must be integers or slices, not tuple",
     "output_type": "error",
     "traceback": [
      "\u001b[0;31m---------------------------------------------------------------------------\u001b[0m",
      "\u001b[0;31mTypeError\u001b[0m                                 Traceback (most recent call last)",
      "\u001b[0;32m<ipython-input-43-004e3a2ac1f9>\u001b[0m in \u001b[0;36m<module>\u001b[0;34m\u001b[0m\n\u001b[1;32m     37\u001b[0m     \u001b[0mtrain_data\u001b[0m \u001b[0;34m=\u001b[0m\u001b[0mget_data_from_file\u001b[0m\u001b[0;34m(\u001b[0m\u001b[0mdata_dir\u001b[0m\u001b[0;34m,\u001b[0m\u001b[0mtrain_file\u001b[0m\u001b[0;34m)\u001b[0m\u001b[0;34m\u001b[0m\u001b[0;34m\u001b[0m\u001b[0m\n\u001b[1;32m     38\u001b[0m     \u001b[0mprint\u001b[0m\u001b[0;34m(\u001b[0m\u001b[0mtrain_data\u001b[0m\u001b[0;34m)\u001b[0m\u001b[0;34m\u001b[0m\u001b[0;34m\u001b[0m\u001b[0m\n\u001b[0;32m---> 39\u001b[0;31m     \u001b[0mX_train\u001b[0m\u001b[0;34m,\u001b[0m\u001b[0mY_train\u001b[0m \u001b[0;34m=\u001b[0m\u001b[0mget_image_and_label\u001b[0m\u001b[0;34m(\u001b[0m\u001b[0mtrain_data\u001b[0m\u001b[0;34m)\u001b[0m\u001b[0;34m\u001b[0m\u001b[0;34m\u001b[0m\u001b[0m\n\u001b[0m\u001b[1;32m     40\u001b[0m \u001b[0;34m\u001b[0m\u001b[0m\n\u001b[1;32m     41\u001b[0m     \u001b[0mtest_data\u001b[0m \u001b[0;34m=\u001b[0m\u001b[0mget_data_from_file\u001b[0m\u001b[0;34m(\u001b[0m\u001b[0mdata_dir\u001b[0m\u001b[0;34m,\u001b[0m\u001b[0mtest_file\u001b[0m\u001b[0;34m)\u001b[0m\u001b[0;34m\u001b[0m\u001b[0;34m\u001b[0m\u001b[0m\n",
      "\u001b[0;32m<ipython-input-43-004e3a2ac1f9>\u001b[0m in \u001b[0;36mget_image_and_label\u001b[0;34m(data)\u001b[0m\n\u001b[1;32m     25\u001b[0m \u001b[0;34m\u001b[0m\u001b[0m\n\u001b[1;32m     26\u001b[0m \u001b[0;32mdef\u001b[0m \u001b[0mget_image_and_label\u001b[0m\u001b[0;34m(\u001b[0m\u001b[0mdata\u001b[0m\u001b[0;34m)\u001b[0m\u001b[0;34m:\u001b[0m\u001b[0;34m\u001b[0m\u001b[0;34m\u001b[0m\u001b[0m\n\u001b[0;32m---> 27\u001b[0;31m     \u001b[0mX\u001b[0m \u001b[0;34m=\u001b[0m\u001b[0mdata\u001b[0m\u001b[0;34m[\u001b[0m\u001b[0;34m:\u001b[0m\u001b[0;34m,\u001b[0m\u001b[0;36m0\u001b[0m\u001b[0;34m]\u001b[0m\u001b[0;34m\u001b[0m\u001b[0;34m\u001b[0m\u001b[0m\n\u001b[0m\u001b[1;32m     28\u001b[0m     \u001b[0mY\u001b[0m \u001b[0;34m=\u001b[0m\u001b[0mdata\u001b[0m\u001b[0;34m[\u001b[0m\u001b[0;34m:\u001b[0m\u001b[0;34m,\u001b[0m\u001b[0;36m1\u001b[0m\u001b[0;34m]\u001b[0m\u001b[0;34m\u001b[0m\u001b[0;34m\u001b[0m\u001b[0m\n\u001b[1;32m     29\u001b[0m     \u001b[0;32mreturn\u001b[0m \u001b[0mX\u001b[0m\u001b[0;34m,\u001b[0m\u001b[0mY\u001b[0m\u001b[0;34m\u001b[0m\u001b[0;34m\u001b[0m\u001b[0m\n",
      "\u001b[0;31mTypeError\u001b[0m: list indices must be integers or slices, not tuple"
     ]
    }
   ],
   "source": [
    "import os\n",
    "import cv2\n",
    "import numpy as np\n",
    "import pickle\n",
    "\n",
    "# enter your code here\n",
    "def get_data_from_file(data_dir,file):\n",
    "    data=[]\n",
    "    with open(file) as fp:\n",
    "        for line in fp:\n",
    "            #print(line)\n",
    "            img_path=os.path.join(data_dir,line[:-1])\n",
    "            try:\n",
    "                img =cv2.imread(img_path)\n",
    "                img_resized =cv2.resize(img,(48,48))\n",
    "                if not(line.find('Cat')==-1):\n",
    "                    label =0\n",
    "                elif not(line.find('Dog')==-1):\n",
    "                    label =1\n",
    "            #print(label)\n",
    "                data.append([img,label])\n",
    "            except:\n",
    "                print('error')\n",
    "    return data\n",
    "\n",
    "def get_image_and_label(data):\n",
    "    X =data[:,0]\n",
    "    Y =data[:,1]\n",
    "    return X,Y\n",
    "\n",
    "if __name__ == '__main__':\n",
    "    data_dir = 'PetImages'\n",
    "    train_file = 'train_list.txt'\n",
    "    test_file = 'test_list.txt'\n",
    "\n",
    "    # enter your code here\n",
    "    train_data =get_data_from_file(data_dir,train_file)\n",
    "    print(train_data)\n",
    "    X_train,Y_train =get_image_and_label(train_data)\n",
    "    \n",
    "    test_data =get_data_from_file(data_dir,test_file)\n",
    "    X_test,Y_test =get_image_and_label(test_data)\n",
    "    Y_test =np.array(Y_test)\n",
    "    \n",
    "    print(len(train_data))\n",
    "    print(train_data[0][0].shape)\n",
    "    print(len(test_data))\n",
    "    print(test_data[0][0].shape)\n",
    "    print(X_train.shape)\n",
    "    print(Y_train.size())\n",
    "\n",
    "    save_path = 'dogs_cats.pkl'\n",
    "    print('Saving to', save_path)\n",
    "    data = {}\n",
    "    data['X_train'] = X_train\n",
    "    data['Y_train'] = Y_train\n",
    "    data['X_test'] = X_test\n",
    "    data['Y_test'] = Y_test\n",
    "    pickle.dump(data, open(save_path, 'wb'))"
   ]
  },
  {
   "cell_type": "code",
   "execution_count": null,
   "metadata": {},
   "outputs": [],
   "source": []
  }
 ],
 "metadata": {
  "kernelspec": {
   "display_name": "Python 3",
   "language": "python",
   "name": "python3"
  },
  "language_info": {
   "codemirror_mode": {
    "name": "ipython",
    "version": 3
   },
   "file_extension": ".py",
   "mimetype": "text/x-python",
   "name": "python",
   "nbconvert_exporter": "python",
   "pygments_lexer": "ipython3",
   "version": "3.8.2"
  }
 },
 "nbformat": 4,
 "nbformat_minor": 2
}
